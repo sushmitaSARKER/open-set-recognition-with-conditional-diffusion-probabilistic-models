{
 "cells": [
  {
   "cell_type": "markdown",
   "id": "384b7b45",
   "metadata": {},
   "source": [
    "# Open-Set Recognition with RF-Diffusion: Main Experiment Notebook"
   ]
  },
  {
   "cell_type": "markdown",
   "id": "b35ef1c8",
   "metadata": {},
   "source": [
    "This notebook serves as the main interface for running the complete OSR pipeline. It imports modules from the other project files to perform:\n",
    "\n",
    "1.  **Phase 1:** Train the Disentangled Feature Extractor.\n",
    "2.  **Phase 2:** Train the Conditional Diffusion Model.\n",
    "3.  **Phase 3:** Calculate the optimal rejection threshold.\n",
    "4.  **Phase 4:** Run a final, detailed evaluation on the test set."
   ]
  },
  {
   "cell_type": "code",
   "execution_count": null,
   "id": "26dff677",
   "metadata": {
    "vscode": {
     "languageId": "plaintext"
    }
   },
   "outputs": [],
   "source": [
    "import config\n",
    "import torch\n",
    "\n",
    "# --- Control Panel ---\n",
    "# Set these flags to True/False to control which parts of the pipeline are executed.\n",
    "# After running a phase, you can set its flag to False to avoid re-running it.\n",
    "DO_PHASE_1_TRAINING = False\n",
    "DO_PHASE_2_TRAINING = False\n",
    "DO_PHASE_3_THRESHOLD_CALC = True\n",
    "DO_PHASE_4_EVALUATION = True\n",
    "\n",
    "print(\"--- EXPERIMENT CONFIGURATION ---\")\n",
    "print(f\"KNOWN CLASSES: {config.KNOWN_CLASSES_LIST}\")\n",
    "print(f\"KNOWN UNKNOWN (for Threshold): {config.KNOWN_UNKNOWN_CLASS}\")\n",
    "print(f\"TEST UNKNOWN (for Evaluation): {config.TEST_UNKNOWN_CLASS}\")\n",
    "print(f\"PHASE 1 EPOCHS: {config.TRAINING_PARAMS['phase1_epochs']}\")\n",
    "print(f\"PHASE 2 EPOCHS: {config.TRAINING_PARAMS['phase2_epochs']}\")\n",
    "print(\"---------------------------------\")\n",
    "\n",
    "device = torch.device('cuda' if torch.cuda.is_available() else 'cpu')\n",
    "print(f\"Using device: {device}\")"
   ]
  },
  {
   "cell_type": "markdown",
   "id": "a1871a86",
   "metadata": {},
   "source": [
    "This cell prepares the three necessary DataLoaders from your source `.mat` file."
   ]
  },
  {
   "cell_type": "code",
   "execution_count": null,
   "id": "11869182",
   "metadata": {
    "vscode": {
     "languageId": "plaintext"
    }
   },
   "outputs": [],
   "source": [
    "from data_loader import prepare_dataloaders\n",
    "\n",
    "# This function (defined in data_loader.py) handles all the data loading and splitting.\n",
    "train_loader, threshold_loader, test_loader = prepare_dataloaders(config.TRAINING_PARAMS['batch_size'])"
   ]
  },
  {
   "cell_type": "markdown",
   "id": "d89c9b1d",
   "metadata": {},
   "source": [
    "This cell calls the training function from `train.py`. It will train and save the `disentangled_feature_extractor.pt` model file."
   ]
  },
  {
   "cell_type": "code",
   "execution_count": null,
   "id": "68972062",
   "metadata": {
    "vscode": {
     "languageId": "plaintext"
    }
   },
   "outputs": [],
   "source": [
    "from train import run_phase1_training\n",
    "\n",
    "if DO_PHASE_1_TRAINING:\n",
    "    run_phase1_training()\n",
    "else:\n",
    "    print(\"Skipping Phase 1 Training.\")"
   ]
  },
  {
   "cell_type": "markdown",
   "id": "ca9e0fc6",
   "metadata": {},
   "source": [
    "This cell calls the training function from `train.py` for Phase 2. It loads the feature extractor from Phase 1 and uses it to train the diffusion model."
   ]
  },
  {
   "cell_type": "code",
   "execution_count": null,
   "id": "2080a7e6",
   "metadata": {
    "vscode": {
     "languageId": "plaintext"
    }
   },
   "outputs": [],
   "source": [
    "from train import run_phase2_training\n",
    "\n",
    "if DO_PHASE_2_TRAINING:\n",
    "    run_phase2_training()\n",
    "else:\n",
    "    print(\"Skipping Phase 2 Training.\")"
   ]
  },
  {
   "cell_type": "markdown",
   "id": "8664efbb",
   "metadata": {},
   "source": [
    "This phase loads both trained models and the `threshold_loader` to find the best reconstruction error threshold using the Youden's Index method."
   ]
  },
  {
   "cell_type": "code",
   "execution_count": null,
   "id": "0e722b0f",
   "metadata": {
    "vscode": {
     "languageId": "plaintext"
    }
   },
   "outputs": [],
   "source": [
    "from evaluate import calculate_optimal_threshold\n",
    "from models.feature_extractor import DisentangledFeatureExtractor\n",
    "from models.diffusion_model import tfdiff_WiFi\n",
    "from utils.diffusion_helper import SignalDiffusion\n",
    "\n",
    "optimal_threshold = None\n",
    "\n",
    "if DO_PHASE_3_THRESHOLD_CALC:\n",
    "    print(\"Loading models for threshold calculation...\")\n",
    "    \n",
    "    # Load the trained models\n",
    "    feature_extractor = DisentangledFeatureExtractor(\n",
    "        num_classes=config.FEATURE_EXTRACTOR_PARAMS['num_classes'],\n",
    "        feature_dim=config.FEATURE_EXTRACTOR_PARAMS['feature_dim']\n",
    "    ).to(device)\n",
    "    feature_extractor.load_state_dict(torch.load(config.PATHS['feature_extractor'], map_location=device))\n",
    "\n",
    "    diffusion_model = tfdiff_WiFi(config.DIFFUSION_PARAMS).to(device)\n",
    "    diffusion_model.load_state_dict(torch.load(config.PATHS['diffusion_model'], map_location=device))\n",
    "\n",
    "    diffusion_helper = SignalDiffusion(config.DIFFUSION_PARAMS)\n",
    "    \n",
    "    # Calculate the threshold\n",
    "    optimal_threshold = calculate_optimal_threshold(\n",
    "        threshold_loader,\n",
    "        feature_extractor,\n",
    "        diffusion_model,\n",
    "        diffusion_helper\n",
    "    )\n",
    "else:\n",
    "    print(\"Skipping Phase 3 Threshold Calculation.\")"
   ]
  },
  {
   "cell_type": "markdown",
   "id": "209d9912",
   "metadata": {},
   "source": [
    "This final phase uses the trained models and the optimal threshold to perform a detailed evaluation on the test set, which includes the completely unseen 'DSSS' class."
   ]
  },
  {
   "cell_type": "code",
   "execution_count": null,
   "id": "fb53d094",
   "metadata": {
    "vscode": {
     "languageId": "plaintext"
    }
   },
   "outputs": [],
   "source": [
    "from evaluate import run_final_evaluation\n",
    "\n",
    "if DO_PHASE_4_EVALUATION:\n",
    "    if optimal_threshold is None:\n",
    "        # If Phase 3 was skipped, try to load from file or use a default\n",
    "        try:\n",
    "            optimal_threshold = np.loadtxt(\"optimal_threshold.txt\")\n",
    "            print(f\"Loaded optimal threshold from file: {optimal_threshold}\")\n",
    "        except IOError:\n",
    "            optimal_threshold = 0.2 # Fallback to a default value\n",
    "            print(f\"WARNING: optimal_threshold.txt not found. Using default value: {optimal_threshold}\")\n",
    "\n",
    "    # The models should still be loaded from the previous cell if it was run.\n",
    "    # If not, we would need to load them again here.\n",
    "    \n",
    "    print(\"\\nReloading models for final evaluation to ensure they are fresh...\")\n",
    "    feature_extractor = DisentangledFeatureExtractor(\n",
    "        num_classes=config.FEATURE_EXTRACTOR_PARAMS['num_classes'],\n",
    "        feature_dim=config.FEATURE_EXTRACTOR_PARAMS['feature_dim']\n",
    "    ).to(device)\n",
    "    feature_extractor.load_state_dict(torch.load(config.PATHS['feature_extractor'], map_location=device))\n",
    "\n",
    "    diffusion_model = tfdiff_WiFi(config.DIFFUSION_PARAMS).to(device)\n",
    "    diffusion_model.load_state_dict(torch.load(config.PATHS['diffusion_model'], map_location=device))\n",
    "\n",
    "    diffusion_helper = SignalDiffusion(config.DIFFUSION_PARAMS)\n",
    "\n",
    "    # Run the final evaluation\n",
    "    run_final_evaluation(\n",
    "        test_loader,\n",
    "        optimal_threshold,\n",
    "        feature_extractor,\n",
    "        diffusion_model,\n",
    "        diffusion_helper\n",
    "    )\n",
    "else:\n",
    "    print(\"Skipping Phase 4 Final Evaluation.\")"
   ]
  }
 ],
 "metadata": {
  "language_info": {
   "name": "python"
  }
 },
 "nbformat": 4,
 "nbformat_minor": 5
}
